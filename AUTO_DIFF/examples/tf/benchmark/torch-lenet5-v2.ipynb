{
 "cells": [
  {
   "cell_type": "code",
   "execution_count": 1,
   "id": "a024d056",
   "metadata": {},
   "outputs": [],
   "source": [
    "import torch\n",
    "import time\n",
    "from torch import nn\n",
    "from torchvision import datasets, transforms\n",
    "from torch.utils.data import DataLoader, TensorDataset\n",
    "import numpy as np\n",
    "import torch.nn.functional as F"
   ]
  },
  {
   "cell_type": "code",
   "execution_count": 2,
   "id": "dec77be6",
   "metadata": {},
   "outputs": [],
   "source": [
    "device = torch.device('cuda')"
   ]
  },
  {
   "cell_type": "code",
   "execution_count": 3,
   "id": "9cf858b5",
   "metadata": {},
   "outputs": [],
   "source": [
    "dtrain = datasets.MNIST(root='MNIST_DATA', train=True, download=True)\n",
    "dtest = datasets.MNIST(root='MNIST_DATA', train=False, download=True)\n",
    "train_img = F.pad(dtrain.data.float()[:, None, ...] / 255., (2, 2, 2, 2))\n",
    "test_img = F.pad(dtest.data.float()[:, None, ...] / 255., (2, 2, 2, 2))\n",
    "train_iter = DataLoader(TensorDataset(train_img.to(device), dtrain.targets.to(device)), batch_size=128, shuffle=True)\n",
    "test_iter = DataLoader(TensorDataset(test_img.to(device), dtest.targets.to(device)), batch_size=1000, shuffle=False)\n",
    "# train_iter = DataLoader(TensorDataset(train_img, dtrain.targets), batch_size=128, shuffle=True)\n",
    "# test_iter = DataLoader(TensorDataset(test_img, dtest.targets), batch_size=1000, shuffle=False)"
   ]
  },
  {
   "cell_type": "code",
   "execution_count": 4,
   "id": "749aa5d8",
   "metadata": {},
   "outputs": [],
   "source": [
    "# 目前来看inplace=True基本不影响速度\n",
    "inplace = True\n",
    "model = nn.Sequential(\n",
    "    nn.Conv2d(in_channels=1, out_channels=32, kernel_size=5, padding='valid'),\n",
    "    nn.ReLU(inplace=inplace),\n",
    "    nn.MaxPool2d(kernel_size=2, stride=2),\n",
    "    nn.Conv2d(in_channels=32, out_channels=64, kernel_size=5, padding='valid'),\n",
    "    nn.ReLU(inplace=inplace),\n",
    "    nn.MaxPool2d(kernel_size=2, stride=2),\n",
    "    nn.Flatten(),\n",
    "    nn.Linear(in_features=1600, out_features=1024),\n",
    "    nn.ReLU(inplace=inplace),\n",
    "    nn.Linear(in_features=1024, out_features=128),\n",
    "    nn.ReLU(inplace=inplace),\n",
    "    nn.Linear(in_features=128, out_features=10)\n",
    ")\n",
    "model = model.to(device)\n"
   ]
  },
  {
   "cell_type": "code",
   "execution_count": 5,
   "id": "9367aec7",
   "metadata": {},
   "outputs": [
    {
     "name": "stdout",
     "output_type": "stream",
     "text": [
      "[1]TIME:8.557946681976318s COST:0.04621458798646927 ACC:0.945733368396759 TEST_COST:0.04621458798646927 TEST_ACC:0.9835000038146973\n",
      "[2]TIME:8.146683931350708s COST:0.045185547322034836 ACC:0.9862666726112366 TEST_COST:0.045185547322034836 TEST_ACC:0.986299991607666\n",
      "[3]TIME:8.104036808013916s COST:0.02236361615359783 ACC:0.9905666708946228 TEST_COST:0.02236361615359783 TEST_ACC:0.9918999671936035\n",
      "[4]TIME:8.092193365097046s COST:0.024845756590366364 ACC:0.9922500252723694 TEST_COST:0.024845756590366364 TEST_ACC:0.9918999671936035\n",
      "[5]TIME:8.094757080078125s COST:0.028636015951633453 ACC:0.9944166541099548 TEST_COST:0.028636015951633453 TEST_ACC:0.9905999898910522\n",
      "[6]TIME:8.093015193939209s COST:0.025910209864377975 ACC:0.9948999881744385 TEST_COST:0.025910209864377975 TEST_ACC:0.991599977016449\n",
      "[7]TIME:8.161656379699707s COST:0.03196645900607109 ACC:0.996483325958252 TEST_COST:0.03196645900607109 TEST_ACC:0.9914999604225159\n",
      "[8]TIME:8.097290992736816s COST:0.03175250440835953 ACC:0.9966833591461182 TEST_COST:0.03175250440835953 TEST_ACC:0.989799976348877\n",
      "[9]TIME:8.097168445587158s COST:0.03264373168349266 ACC:0.9970499873161316 TEST_COST:0.03264373168349266 TEST_ACC:0.9911999702453613\n",
      "[10]TIME:8.099033117294312s COST:0.03249715641140938 ACC:0.9973833560943604 TEST_COST:0.03249715641140938 TEST_ACC:0.9905999898910522\n",
      "CPU times: user 1min 3s, sys: 20.6 s, total: 1min 24s\n",
      "Wall time: 1min 24s\n"
     ]
    }
   ],
   "source": [
    "# item()函数确实影响速度, 所以计算LOSS, ACC时不执行.item()\n",
    "epochs = 10\n",
    "train_size = len(dtrain)\n",
    "test_size = len(dtest)\n",
    "optimizer = torch.optim.Adam(model.parameters(), lr=0.001)\n",
    "loss_fn = torch.nn.CrossEntropyLoss().to(device)\n",
    "\n",
    "def train():\n",
    "    for epoch in range(1, epochs + 1):\n",
    "        total_train_loss = 0.\n",
    "        train_nacc = 0\n",
    "        ts = time.time()\n",
    "        for xi, yi in train_iter:\n",
    "            # xi, yi = xi.cuda(), yi.cuda()\n",
    "            # set_to_none=True\n",
    "            optimizer.zero_grad(set_to_none=True)\n",
    "            # optimizer.zero_grad()\n",
    "            logits = model(xi)\n",
    "            loss = loss_fn(logits, yi)\n",
    "            loss.backward()\n",
    "            optimizer.step()\n",
    "            with torch.no_grad():\n",
    "                total_train_loss += loss * len(xi)\n",
    "                train_nacc += torch.sum(logits.argmax(axis=-1) == yi)\n",
    "        train_cost, train_acc = total_train_loss / train_size, train_nacc / train_size\n",
    "\n",
    "        total_test_loss = 0.\n",
    "        test_nacc = 0\n",
    "        with torch.no_grad():\n",
    "            for xi, yi in test_iter:\n",
    "                # xi, yi = xi.cuda(), yi.cuda()\n",
    "                logits = model(xi)\n",
    "                total_test_loss += loss_fn(logits, yi) * len(xi)\n",
    "                test_nacc += torch.sum(logits.argmax(axis=-1) == yi)\n",
    "        test_cost, test_acc = total_test_loss / test_size, test_nacc / test_size\n",
    "        time_used = time.time() - ts\n",
    "        print(f\"[{epoch}]TIME:{time_used}s COST:{test_cost} ACC:{train_acc} TEST_COST:{test_cost} TEST_ACC:{test_acc}\")\n",
    "\n",
    "%time train()"
   ]
  }
 ],
 "metadata": {
  "kernelspec": {
   "display_name": "Python 3 (ipykernel)",
   "language": "python",
   "name": "python3"
  },
  "language_info": {
   "codemirror_mode": {
    "name": "ipython",
    "version": 3
   },
   "file_extension": ".py",
   "mimetype": "text/x-python",
   "name": "python",
   "nbconvert_exporter": "python",
   "pygments_lexer": "ipython3",
   "version": "3.7.16"
  }
 },
 "nbformat": 4,
 "nbformat_minor": 5
}

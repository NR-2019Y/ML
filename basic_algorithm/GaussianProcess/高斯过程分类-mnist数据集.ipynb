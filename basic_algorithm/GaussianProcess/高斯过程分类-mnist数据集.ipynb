{
 "cells": [
  {
   "cell_type": "code",
   "execution_count": 1,
   "id": "f38e944e",
   "metadata": {},
   "outputs": [],
   "source": [
    "import numpy as np\n",
    "from sklearn.feature_selection import VarianceThreshold\n",
    "data_file = '../../mnist/_data/sklearnstyle_mnist_data.npz'\n",
    "train_x, test_x, train_y, test_y = np.load(data_file).values()\n",
    "fobj = VarianceThreshold()\n",
    "fobj.fit(train_x)\n",
    "train_x = fobj.transform(train_x)\n",
    "test_x  = fobj.transform(test_x)"
   ]
  },
  {
   "cell_type": "code",
   "execution_count": 2,
   "id": "839e91ab",
   "metadata": {},
   "outputs": [
    {
     "name": "stdout",
     "output_type": "stream",
     "text": [
      "训练集准确率 0.91585\n",
      "测试集准确率 0.92\n",
      "运行时间 20.03959560394287\n"
     ]
    }
   ],
   "source": [
    "import time\n",
    "from _GPC import GPC\n",
    "tic = time.time()\n",
    "gobj = GPC(lam=0.5)\n",
    "gobj.fit(train_x, train_y)\n",
    "print(\"训练集准确率\", gobj.score(train_x, train_y))\n",
    "print(\"测试集准确率\", gobj.score(test_x, test_y))\n",
    "print(\"运行时间\", time.time() - tic)"
   ]
  },
  {
   "cell_type": "code",
   "execution_count": 3,
   "id": "a2f47590",
   "metadata": {},
   "outputs": [],
   "source": [
    "from sklearn.decomposition import PCA\n",
    "pobj = PCA()\n",
    "pobj.fit(train_x)\n",
    "train_xpc_all = pobj.transform(train_x)\n",
    "test_xpc_all  = pobj.transform(test_x)"
   ]
  },
  {
   "cell_type": "code",
   "execution_count": 4,
   "id": "b1b1855d",
   "metadata": {},
   "outputs": [
    {
     "name": "stdout",
     "output_type": "stream",
     "text": [
      "主成分方差占比 0.9664473477010525\n",
      "训练集准确率 0.9625\n",
      "测试集准确率 0.9612\n",
      "运行时间 2.727689266204834\n"
     ]
    }
   ],
   "source": [
    "npc = 200\n",
    "train_xpc = train_xpc_all[:, :npc]\n",
    "test_xpc  = test_xpc_all [:, :npc]\n",
    "print(\"主成分方差占比\", pobj.explained_variance_ratio_[:npc].sum())\n",
    "tic = time.time()\n",
    "gobj1 = GPC(lam=0.03)\n",
    "gobj1.fit(train_xpc, train_y)\n",
    "print(\"训练集准确率\", gobj1.score(train_xpc, train_y))\n",
    "print(\"测试集准确率\", gobj1.score(test_xpc, test_y))\n",
    "print(\"运行时间\", time.time() - tic)"
   ]
  }
 ],
 "metadata": {
  "kernelspec": {
   "display_name": "Python 3 (ipykernel)",
   "language": "python",
   "name": "python3"
  },
  "language_info": {
   "codemirror_mode": {
    "name": "ipython",
    "version": 3
   },
   "file_extension": ".py",
   "mimetype": "text/x-python",
   "name": "python",
   "nbconvert_exporter": "python",
   "pygments_lexer": "ipython3",
   "version": "3.9.13"
  }
 },
 "nbformat": 4,
 "nbformat_minor": 5
}

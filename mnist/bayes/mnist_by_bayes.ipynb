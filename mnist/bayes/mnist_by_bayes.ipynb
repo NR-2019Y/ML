{
 "cells": [
  {
   "cell_type": "markdown",
   "metadata": {},
   "source": [
    "# 朴素贝叶斯分类实现MNIST数据集手写数字识别"
   ]
  },
  {
   "cell_type": "code",
   "execution_count": 1,
   "metadata": {},
   "outputs": [],
   "source": [
    "import numpy as np\n",
    "import pandas as pd\n",
    "from sklearn.feature_selection import VarianceThreshold"
   ]
  },
  {
   "cell_type": "code",
   "execution_count": 2,
   "metadata": {},
   "outputs": [
    {
     "data": {
      "text/plain": [
       "((60000, 676), (10000, 676))"
      ]
     },
     "execution_count": 2,
     "metadata": {},
     "output_type": "execute_result"
    }
   ],
   "source": [
    "train_x, test_x, train_y, test_y = np.load(\"../_data/sklearnstyle_mnist_data.npz\").values()\n",
    "threshold = 0.5\n",
    "train_x, test_x = (train_x > threshold).astype(np.int32), (test_x > threshold).astype(np.int32)\n",
    "fobj = VarianceThreshold()\n",
    "fobj.fit(train_x)\n",
    "train_x = fobj.transform(train_x)\n",
    "test_x = fobj.transform(test_x)\n",
    "train_x.shape, test_x.shape"
   ]
  },
  {
   "cell_type": "code",
   "execution_count": 3,
   "metadata": {},
   "outputs": [],
   "source": [
    "dtrain = np.c_[train_x, train_y]\n",
    "dtrain = pd.DataFrame(dtrain)\n",
    "laplace = 0.001\n",
    "dgrp = dtrain.groupby(dtrain.columns[-1])\n",
    "fq   = (dgrp.size().to_numpy() + laplace) / (dtrain.shape[0] + 10 * laplace)\n",
    "pvals = dgrp.agg(lambda x : (np.sum(x) + laplace) / (len(x) + 2 * laplace)).to_numpy()\n",
    "npvals = 1 - pvals"
   ]
  },
  {
   "cell_type": "code",
   "execution_count": 4,
   "metadata": {},
   "outputs": [
    {
     "data": {
      "text/plain": [
       "0.8373833333333334"
      ]
     },
     "execution_count": 4,
     "metadata": {},
     "output_type": "execute_result"
    }
   ],
   "source": [
    "train_y_pred = np.empty_like(train_y)\n",
    "for i in range(train_x.shape[0]):\n",
    "    train_y_pred[i] = np.argmax(fq * np.where(train_x[i] == 0, npvals, pvals).prod(axis=1))\n",
    "from sklearn.metrics import accuracy_score\n",
    "accuracy_score(train_y, train_y_pred)"
   ]
  },
  {
   "cell_type": "code",
   "execution_count": 5,
   "metadata": {},
   "outputs": [
    {
     "data": {
      "text/plain": [
       "0.8442"
      ]
     },
     "execution_count": 5,
     "metadata": {},
     "output_type": "execute_result"
    }
   ],
   "source": [
    "test_y_pred = np.empty_like(test_y)\n",
    "for i in range(test_x.shape[0]):\n",
    "    test_y_pred[i] = np.argmax(fq * np.where(test_x[i] == 0, npvals, pvals).prod(axis=1))\n",
    "accuracy_score(test_y, test_y_pred)"
   ]
  }
 ],
 "metadata": {
  "kernelspec": {
   "display_name": "Python 3",
   "language": "python",
   "name": "python3"
  },
  "language_info": {
   "codemirror_mode": {
    "name": "ipython",
    "version": 3
   },
   "file_extension": ".py",
   "mimetype": "text/x-python",
   "name": "python",
   "nbconvert_exporter": "python",
   "pygments_lexer": "ipython3",
   "version": "3.7.4"
  }
 },
 "nbformat": 4,
 "nbformat_minor": 5
}

{
 "cells": [
  {
   "cell_type": "markdown",
   "id": "9358e656",
   "metadata": {},
   "source": [
    "# 朴素贝叶斯分类实现MNIST数据集手写数字识别"
   ]
  },
  {
   "cell_type": "code",
   "execution_count": 1,
   "id": "35f8d0c5",
   "metadata": {},
   "outputs": [],
   "source": [
    "import numpy as np\n",
    "import sys, time\n",
    "from sklearn.feature_selection import VarianceThreshold"
   ]
  },
  {
   "cell_type": "code",
   "execution_count": 2,
   "id": "0280bfbc",
   "metadata": {},
   "outputs": [
    {
     "data": {
      "text/plain": [
       "((60000, 676), (10000, 676))"
      ]
     },
     "execution_count": 2,
     "metadata": {},
     "output_type": "execute_result"
    }
   ],
   "source": [
    "train_x, test_x, train_y, test_y = np.load(\"../_data/sklearnstyle_mnist_data.npz\").values()\n",
    "threshold = 0.5\n",
    "train_x, test_x = (train_x > threshold).astype(np.int32), (test_x > threshold).astype(np.int32)\n",
    "fobj = VarianceThreshold()\n",
    "fobj.fit(train_x)\n",
    "train_x = fobj.transform(train_x)\n",
    "test_x = fobj.transform(test_x)\n",
    "train_x.shape, test_x.shape"
   ]
  },
  {
   "cell_type": "code",
   "execution_count": 3,
   "id": "a3652a4f",
   "metadata": {},
   "outputs": [],
   "source": [
    "import pandas as pd\n",
    "dtrain = np.c_[train_x, train_y]\n",
    "dtrain = pd.DataFrame(dtrain)\n",
    "laplace = 1\n",
    "pvals = dtrain.groupby(dtrain.columns[-1]).agg(lambda x : (np.sum(x) + laplace) / (len(x) + laplace)).values"
   ]
  },
  {
   "cell_type": "code",
   "execution_count": 4,
   "id": "70732b2a",
   "metadata": {},
   "outputs": [
    {
     "data": {
      "text/plain": [
       "0.8358666666666666"
      ]
     },
     "execution_count": 4,
     "metadata": {},
     "output_type": "execute_result"
    }
   ],
   "source": [
    "train_y_pred = np.empty_like(train_y)\n",
    "for i in range(train_x.shape[0]):\n",
    "    train_y_pred[i] = np.where(train_x[i] == 0, 1 - pvals, pvals).prod(axis=1).argmax()\n",
    "from sklearn.metrics import accuracy_score\n",
    "accuracy_score(train_y, train_y_pred)"
   ]
  },
  {
   "cell_type": "code",
   "execution_count": 5,
   "id": "066de421",
   "metadata": {},
   "outputs": [
    {
     "data": {
      "text/plain": [
       "0.8427"
      ]
     },
     "execution_count": 5,
     "metadata": {},
     "output_type": "execute_result"
    }
   ],
   "source": [
    "test_y_pred = np.empty_like(test_y)\n",
    "for i in range(test_x.shape[0]):\n",
    "    test_y_pred[i] = np.where(test_x[i] == 0, 1 - pvals, pvals).prod(axis=1).argmax()\n",
    "accuracy_score(test_y, test_y_pred)"
   ]
  }
 ],
 "metadata": {
  "kernelspec": {
   "display_name": "Python 3 (ipykernel)",
   "language": "python",
   "name": "python3"
  },
  "language_info": {
   "codemirror_mode": {
    "name": "ipython",
    "version": 3
   },
   "file_extension": ".py",
   "mimetype": "text/x-python",
   "name": "python",
   "nbconvert_exporter": "python",
   "pygments_lexer": "ipython3",
   "version": "3.10.6"
  }
 },
 "nbformat": 4,
 "nbformat_minor": 5
}
